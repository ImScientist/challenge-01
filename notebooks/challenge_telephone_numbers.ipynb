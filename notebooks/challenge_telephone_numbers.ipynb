{
 "cells": [
  {
   "cell_type": "code",
   "execution_count": 1,
   "metadata": {},
   "outputs": [],
   "source": [
    "import numpy as np\n",
    "from challenge.utils import *"
   ]
  },
  {
   "cell_type": "markdown",
   "metadata": {},
   "source": [
    "##### Test the algorithm"
   ]
  },
  {
   "cell_type": "code",
   "execution_count": 2,
   "metadata": {},
   "outputs": [],
   "source": [
    "# describe the current state of the algorithm as a tuple;\n",
    "# we could use a class if we want to make things more complex;\n",
    "\n",
    "# 'state': str of len 2\n",
    "# cost: float\n",
    "# LR pattern: str of variable length containing only 'L', 'R' symbols\n"
   ]
  },
  {
   "cell_type": "code",
   "execution_count": 3,
   "metadata": {},
   "outputs": [],
   "source": [
    "import random\n",
    "def generate_number_sequence(k=5):\n",
    "    return random.choices('0123456789*#', weights=None, k=k)    "
   ]
  },
  {
   "cell_type": "code",
   "execution_count": 4,
   "metadata": {},
   "outputs": [
    {
     "data": {
      "text/plain": [
       "'89602'"
      ]
     },
     "execution_count": 4,
     "metadata": {},
     "output_type": "execute_result"
    }
   ],
   "source": [
    "# define the initial state\n",
    "# \n",
    "initial_state = ('*#', 0., '')\n",
    "# number_sequence = generate_number_sequence(k=5)\n",
    "# number_sequence = ['8', '9', '6', '0', '2']\n",
    "number_sequence = '89602'\n",
    "number_sequence"
   ]
  },
  {
   "cell_type": "code",
   "execution_count": 5,
   "metadata": {},
   "outputs": [
    {
     "data": {
      "text/plain": [
       "[('*#', 0.0, '')]"
      ]
     },
     "execution_count": 5,
     "metadata": {},
     "output_type": "execute_result"
    }
   ],
   "source": [
    "state_list = [initial_state]\n",
    "state_list"
   ]
  },
  {
   "cell_type": "code",
   "execution_count": 6,
   "metadata": {
    "scrolled": true
   },
   "outputs": [
    {
     "data": {
      "text/plain": [
       "[('8#', 1.4142135623730951, 'L'), ('*8', 1.4142135623730951, 'R')]"
      ]
     },
     "metadata": {},
     "output_type": "display_data"
    },
    {
     "data": {
      "text/plain": [
       "[('*8', 1.4142135623730951, 'R'), ('8#', 1.4142135623730951, 'L')]"
      ]
     },
     "metadata": {},
     "output_type": "display_data"
    }
   ],
   "source": [
    "new_state_list = generate_new_states(number_sequence[0], state_list)\n",
    "display(new_state_list)\n",
    "new_state_list = reduce_new_states(new_state_list)\n",
    "display(new_state_list)"
   ]
  },
  {
   "cell_type": "code",
   "execution_count": 7,
   "metadata": {},
   "outputs": [
    {
     "data": {
      "text/plain": [
       "[('98', 3.6502815398728847, 'RL'),\n",
       " ('9#', 2.414213562373095, 'LL'),\n",
       " ('*9', 2.414213562373095, 'RR'),\n",
       " ('89', 2.414213562373095, 'LR')]"
      ]
     },
     "metadata": {},
     "output_type": "display_data"
    },
    {
     "data": {
      "text/plain": [
       "[('*9', 2.414213562373095, 'RR'),\n",
       " ('89', 2.414213562373095, 'LR'),\n",
       " ('9#', 2.414213562373095, 'LL'),\n",
       " ('98', 3.6502815398728847, 'RL')]"
      ]
     },
     "execution_count": 7,
     "metadata": {},
     "output_type": "execute_result"
    }
   ],
   "source": [
    "new_state_list = generate_new_states(number_sequence[1], new_state_list)\n",
    "display(new_state_list)\n",
    "\n",
    "new_state_list = reduce_new_states(new_state_list)\n",
    "new_state_list"
   ]
  },
  {
   "cell_type": "code",
   "execution_count": 8,
   "metadata": {},
   "outputs": [
    {
     "data": {
      "text/plain": [
       "[('69', 5.242640687119286, 'RRL'),\n",
       " ('69', 3.82842712474619, 'LRL'),\n",
       " ('6#', 3.414213562373095, 'LLL'),\n",
       " ('68', 4.650281539872885, 'RLL'),\n",
       " ('*6', 3.414213562373095, 'RRR'),\n",
       " ('86', 3.414213562373095, 'LRR'),\n",
       " ('96', 4.414213562373095, 'LLR'),\n",
       " ('96', 5.06449510224598, 'RLR')]"
      ]
     },
     "metadata": {},
     "output_type": "display_data"
    },
    {
     "data": {
      "text/plain": [
       "[('*6', 3.414213562373095, 'RRR'),\n",
       " ('6#', 3.414213562373095, 'LLL'),\n",
       " ('68', 4.650281539872885, 'RLL'),\n",
       " ('69', 3.82842712474619, 'LRL'),\n",
       " ('86', 3.414213562373095, 'LRR'),\n",
       " ('96', 4.414213562373095, 'LLR')]"
      ]
     },
     "execution_count": 8,
     "metadata": {},
     "output_type": "execute_result"
    }
   ],
   "source": [
    "new_state_list = generate_new_states(number_sequence[2], new_state_list)\n",
    "display(new_state_list)\n",
    "\n",
    "new_state_list = reduce_new_states(new_state_list)\n",
    "new_state_list"
   ]
  },
  {
   "cell_type": "code",
   "execution_count": 9,
   "metadata": {},
   "outputs": [
    {
     "data": {
      "text/plain": [
       "[('06', 4.414213562373095, 'RRRL'),\n",
       " ('0#', 5.650281539872885, 'LLLL'),\n",
       " ('08', 6.8863495173726745, 'RLLL'),\n",
       " ('09', 6.06449510224598, 'LRLL'),\n",
       " ('06', 4.414213562373095, 'LRRL'),\n",
       " ('06', 5.82842712474619, 'LLRL'),\n",
       " ('*0', 5.650281539872885, 'RRRR'),\n",
       " ('60', 4.414213562373095, 'LLLR'),\n",
       " ('60', 5.650281539872885, 'RLLR'),\n",
       " ('60', 5.242640687119285, 'LRLR'),\n",
       " ('80', 5.650281539872885, 'LRRR'),\n",
       " ('90', 6.650281539872885, 'LLRR')]"
      ]
     },
     "metadata": {},
     "output_type": "display_data"
    },
    {
     "data": {
      "text/plain": [
       "[('*0', 5.650281539872885, 'RRRR'),\n",
       " ('0#', 5.650281539872885, 'LLLL'),\n",
       " ('06', 4.414213562373095, 'RRRL'),\n",
       " ('08', 6.8863495173726745, 'RLLL'),\n",
       " ('09', 6.06449510224598, 'LRLL'),\n",
       " ('60', 4.414213562373095, 'LLLR'),\n",
       " ('80', 5.650281539872885, 'LRRR'),\n",
       " ('90', 6.650281539872885, 'LLRR')]"
      ]
     },
     "execution_count": 9,
     "metadata": {},
     "output_type": "execute_result"
    }
   ],
   "source": [
    "new_state_list = generate_new_states(number_sequence[3], new_state_list)\n",
    "display(new_state_list)\n",
    "\n",
    "new_state_list = reduce_new_states(new_state_list)\n",
    "new_state_list"
   ]
  },
  {
   "cell_type": "code",
   "execution_count": 10,
   "metadata": {},
   "outputs": [
    {
     "data": {
      "text/plain": [
       "[('20', 8.812559200041264, 'RRRRL'),\n",
       " ('2#', 8.650281539872886, 'LLLLL'),\n",
       " ('26', 7.414213562373095, 'RRRLL'),\n",
       " ('28', 9.886349517372675, 'RLLLL'),\n",
       " ('29', 9.06449510224598, 'LRLLL'),\n",
       " ('20', 5.82842712474619, 'LLLRL'),\n",
       " ('20', 7.650281539872885, 'LRRRL'),\n",
       " ('20', 8.886349517372675, 'LLRRL'),\n",
       " ('*2', 8.650281539872886, 'RRRRR'),\n",
       " ('02', 8.812559200041264, 'LLLLR'),\n",
       " ('02', 5.82842712474619, 'RRRLR'),\n",
       " ('02', 8.886349517372675, 'RLLLR'),\n",
       " ('02', 8.30056307974577, 'LRLLR'),\n",
       " ('62', 7.414213562373095, 'LLLRR'),\n",
       " ('82', 8.650281539872886, 'LRRRR'),\n",
       " ('92', 9.650281539872886, 'LLRRR')]"
      ]
     },
     "metadata": {},
     "output_type": "display_data"
    },
    {
     "data": {
      "text/plain": [
       "[('*2', 8.650281539872886, 'RRRRR'),\n",
       " ('02', 5.82842712474619, 'RRRLR'),\n",
       " ('2#', 8.650281539872886, 'LLLLL'),\n",
       " ('20', 5.82842712474619, 'LLLRL'),\n",
       " ('26', 7.414213562373095, 'RRRLL'),\n",
       " ('28', 9.886349517372675, 'RLLLL'),\n",
       " ('29', 9.06449510224598, 'LRLLL'),\n",
       " ('62', 7.414213562373095, 'LLLRR'),\n",
       " ('82', 8.650281539872886, 'LRRRR'),\n",
       " ('92', 9.650281539872886, 'LLRRR')]"
      ]
     },
     "execution_count": 10,
     "metadata": {},
     "output_type": "execute_result"
    }
   ],
   "source": [
    "new_state_list = generate_new_states(number_sequence[4], new_state_list)\n",
    "display(new_state_list)\n",
    "\n",
    "new_state_list = reduce_new_states(new_state_list)\n",
    "new_state_list"
   ]
  },
  {
   "cell_type": "code",
   "execution_count": 11,
   "metadata": {},
   "outputs": [
    {
     "data": {
      "text/plain": [
       "('02', 5.82842712474619, 'RRRLR')"
      ]
     },
     "execution_count": 11,
     "metadata": {},
     "output_type": "execute_result"
    }
   ],
   "source": [
    "best_state = min(new_state_list, key = lambda x: x[1])\n",
    "best_state"
   ]
  },
  {
   "cell_type": "code",
   "execution_count": 12,
   "metadata": {},
   "outputs": [
    {
     "data": {
      "text/plain": [
       "(5.82842712474619,\n",
       " [('*', '#'), ('*', '8'), ('*', '9'), ('*', '6'), ('0', '6'), ('0', '2')])"
      ]
     },
     "execution_count": 12,
     "metadata": {},
     "output_type": "execute_result"
    }
   ],
   "source": [
    "res = reformat_best_sequence(number_sequence=number_sequence, best_state=best_state)\n",
    "res"
   ]
  },
  {
   "cell_type": "code",
   "execution_count": 13,
   "metadata": {},
   "outputs": [],
   "source": [
    "from typing import IO, List, Optional, Tuple"
   ]
  },
  {
   "cell_type": "code",
   "execution_count": 14,
   "metadata": {},
   "outputs": [
    {
     "data": {
      "text/plain": [
       "(5.82842712474619,\n",
       " [('*', '#'), ('*', '8'), ('*', '9'), ('*', '6'), ('0', '6'), ('0', '2')])"
      ]
     },
     "execution_count": 14,
     "metadata": {},
     "output_type": "execute_result"
    }
   ],
   "source": [
    "res = compute_laziest_path(telephone_number=number_sequence)\n",
    "res"
   ]
  },
  {
   "cell_type": "code",
   "execution_count": 15,
   "metadata": {},
   "outputs": [
    {
     "data": {
      "text/plain": [
       "(4.0, [('*', '#'), ('1', '#'), ('1', '#'), ('1', '0')])"
      ]
     },
     "execution_count": 15,
     "metadata": {},
     "output_type": "execute_result"
    }
   ],
   "source": [
    "compute_laziest_path(telephone_number='110')"
   ]
  },
  {
   "cell_type": "markdown",
   "metadata": {},
   "source": [
    "##### Complexity"
   ]
  },
  {
   "cell_type": "markdown",
   "metadata": {},
   "source": [
    "######  Time complexity:    \n",
    "- The computation time depends linearly on the sequence length `n`, i.e. we have `O(n)` complexity.   \n",
    "- The computation time depends linearly on number of keys `k`, i.e. we have `O(k)` complexity.   \n",
    "- The algorithm complexity is `O(nk)`\n",
    "    \n",
    "Reason: we have a single loop over the number sequence and the number of operations in every \n",
    "    iterations is bounded to the generation (and reduction) of at most `4*(k-1)` states.   \n",
    "    "
   ]
  },
  {
   "cell_type": "code",
   "execution_count": null,
   "metadata": {},
   "outputs": [],
   "source": []
  }
 ],
 "metadata": {
  "kernelspec": {
   "display_name": "challenge",
   "language": "python",
   "name": "challenge"
  },
  "language_info": {
   "codemirror_mode": {
    "name": "ipython",
    "version": 3
   },
   "file_extension": ".py",
   "mimetype": "text/x-python",
   "name": "python",
   "nbconvert_exporter": "python",
   "pygments_lexer": "ipython3",
   "version": "3.8.1"
  }
 },
 "nbformat": 4,
 "nbformat_minor": 2
}
